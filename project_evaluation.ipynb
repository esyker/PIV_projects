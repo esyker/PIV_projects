{
 "cells": [
  {
   "cell_type": "code",
   "execution_count": 1,
   "metadata": {
    "id": "bCvzp0bKAUQl"
   },
   "outputs": [
    {
     "name": "stderr",
     "output_type": "stream",
     "text": [
      "'unzip' is not recognized as an internal or external command,\n",
      "operable program or batch file.\n"
     ]
    }
   ],
   "source": [
    "# Upload your project project.zip file into the '/content/' folder\n",
    "!unzip project.zip -d /content/project/"
   ]
  },
  {
   "cell_type": "code",
   "execution_count": 2,
   "metadata": {
    "id": "Zi9ruZF6HDEy"
   },
   "outputs": [],
   "source": [
    "# If you use additional libraries, consider adding a requirements.txt file \n",
    "# ( https://www.idkrtm.com/what-is-the-python-requirements-txt/ ) to your project.zip\n",
    "# and running the following line:\n",
    "\n",
    "# !pip install -r /content/project/requirements.txt"
   ]
  },
  {
   "cell_type": "code",
   "execution_count": 3,
   "metadata": {
    "id": "81pqaReBLLtZ"
   },
   "outputs": [
    {
     "name": "stderr",
     "output_type": "stream",
     "text": [
      "'gdown' is not recognized as an internal or external command,\n",
      "operable program or batch file.\n",
      "'unzip' is not recognized as an internal or external command,\n",
      "operable program or batch file.\n"
     ]
    }
   ],
   "source": [
    "!gdown --id 1aeHIx-uo837dxxNjBFS4Yq0u3IcNQcDy\n",
    "!unzip project_data_files.zip"
   ]
  },
  {
   "cell_type": "code",
   "execution_count": 4,
   "metadata": {
    "id": "Wc5qGR7v-RoP"
   },
   "outputs": [
    {
     "ename": "FileNotFoundError",
     "evalue": "[WinError 3] O sistema não conseguiu localizar o caminho especificado: '/content/output/'",
     "output_type": "error",
     "traceback": [
      "\u001b[1;31m---------------------------------------------------------------------------\u001b[0m",
      "\u001b[1;31mFileNotFoundError\u001b[0m                         Traceback (most recent call last)",
      "\u001b[1;32mC:\\Users\\UTILIZ~1\\AppData\\Local\\Temp/ipykernel_15116/3735411657.py\u001b[0m in \u001b[0;36m<module>\u001b[1;34m\u001b[0m\n\u001b[0;32m     10\u001b[0m \u001b[1;33m\u001b[0m\u001b[0m\n\u001b[0;32m     11\u001b[0m \u001b[1;32mif\u001b[0m \u001b[1;32mnot\u001b[0m \u001b[0mos\u001b[0m\u001b[1;33m.\u001b[0m\u001b[0mpath\u001b[0m\u001b[1;33m.\u001b[0m\u001b[0mexists\u001b[0m\u001b[1;33m(\u001b[0m\u001b[0mpath_to_output_folder\u001b[0m\u001b[1;33m)\u001b[0m\u001b[1;33m:\u001b[0m\u001b[1;33m\u001b[0m\u001b[1;33m\u001b[0m\u001b[0m\n\u001b[1;32m---> 12\u001b[1;33m     \u001b[0mos\u001b[0m\u001b[1;33m.\u001b[0m\u001b[0mmkdir\u001b[0m\u001b[1;33m(\u001b[0m\u001b[0mpath_to_output_folder\u001b[0m\u001b[1;33m)\u001b[0m\u001b[1;33m\u001b[0m\u001b[1;33m\u001b[0m\u001b[0m\n\u001b[0m\u001b[0;32m     13\u001b[0m \u001b[1;33m\u001b[0m\u001b[0m\n\u001b[0;32m     14\u001b[0m \u001b[0mcommand\u001b[0m \u001b[1;33m=\u001b[0m \u001b[1;34m'python %s %d %s %s %s %s'\u001b[0m \u001b[1;33m%\u001b[0m\u001b[1;33m(\u001b[0m\u001b[0mfilename\u001b[0m\u001b[1;33m,\u001b[0m \u001b[0mtask\u001b[0m\u001b[1;33m,\u001b[0m \u001b[0mpath_to_template\u001b[0m\u001b[1;33m,\u001b[0m \u001b[0mpath_to_output_folder\u001b[0m\u001b[1;33m,\u001b[0m \u001b[0marg1\u001b[0m\u001b[1;33m,\u001b[0m \u001b[0marg2\u001b[0m\u001b[1;33m)\u001b[0m\u001b[1;33m\u001b[0m\u001b[1;33m\u001b[0m\u001b[0m\n",
      "\u001b[1;31mFileNotFoundError\u001b[0m: [WinError 3] O sistema não conseguiu localizar o caminho especificado: '/content/output/'"
     ]
    }
   ],
   "source": [
    "import subprocess\n",
    "import os\n",
    "\n",
    "task = 1\n",
    "filename = 'pivproject2021.py'\n",
    "path_to_template = '/content/template2_fewArucos.png'\n",
    "arg1 = '/content/FewArucos-Viewpoint1_images/'\n",
    "arg2 = ''\n",
    "path_to_output_folder = '/content/output/'\n",
    "\n",
    "if not os.path.exists(path_to_output_folder):\n",
    "    os.mkdir(path_to_output_folder)\n",
    "\n",
    "command = 'python %s %d %s %s %s %s' %(filename, task, path_to_template, path_to_output_folder, arg1, arg2)\n",
    "cwd = '/content/project/'\n",
    "sp = subprocess.run(command, capture_output=True, shell=True, cwd=cwd, universal_newlines=True)\n",
    "print(sp.stdout)\n",
    "print(sp.stderr)"
   ]
  },
  {
   "cell_type": "code",
   "execution_count": null,
   "metadata": {
    "colab": {
     "base_uri": "https://localhost:8080/"
    },
    "id": "Dx-dad_ja4Wi",
    "outputId": "d9b910a6-5322-464f-dc95-30c5fdbc0e21"
   },
   "outputs": [
    {
     "name": "stdout",
     "output_type": "stream",
     "text": [
      "rgb_0001.jpg  rgb_0023.jpg  rgb_0045.jpg  rgb_0067.jpg\trgb_0089.jpg\n",
      "rgb_0002.jpg  rgb_0024.jpg  rgb_0046.jpg  rgb_0068.jpg\trgb_0090.jpg\n",
      "rgb_0003.jpg  rgb_0025.jpg  rgb_0047.jpg  rgb_0069.jpg\trgb_0091.jpg\n",
      "rgb_0004.jpg  rgb_0026.jpg  rgb_0048.jpg  rgb_0070.jpg\trgb_0092.jpg\n",
      "rgb_0005.jpg  rgb_0027.jpg  rgb_0049.jpg  rgb_0071.jpg\trgb_0093.jpg\n",
      "rgb_0006.jpg  rgb_0028.jpg  rgb_0050.jpg  rgb_0072.jpg\trgb_0094.jpg\n",
      "rgb_0007.jpg  rgb_0029.jpg  rgb_0051.jpg  rgb_0073.jpg\trgb_0095.jpg\n",
      "rgb_0008.jpg  rgb_0030.jpg  rgb_0052.jpg  rgb_0074.jpg\trgb_0096.jpg\n",
      "rgb_0009.jpg  rgb_0031.jpg  rgb_0053.jpg  rgb_0075.jpg\trgb_0097.jpg\n",
      "rgb_0010.jpg  rgb_0032.jpg  rgb_0054.jpg  rgb_0076.jpg\trgb_0098.jpg\n",
      "rgb_0011.jpg  rgb_0033.jpg  rgb_0055.jpg  rgb_0077.jpg\trgb_0099.jpg\n",
      "rgb_0012.jpg  rgb_0034.jpg  rgb_0056.jpg  rgb_0078.jpg\trgb_0100.jpg\n",
      "rgb_0013.jpg  rgb_0035.jpg  rgb_0057.jpg  rgb_0079.jpg\trgb_0101.jpg\n",
      "rgb_0014.jpg  rgb_0036.jpg  rgb_0058.jpg  rgb_0080.jpg\trgb_0102.jpg\n",
      "rgb_0015.jpg  rgb_0037.jpg  rgb_0059.jpg  rgb_0081.jpg\trgb_0103.jpg\n",
      "rgb_0016.jpg  rgb_0038.jpg  rgb_0060.jpg  rgb_0082.jpg\trgb_0104.jpg\n",
      "rgb_0017.jpg  rgb_0039.jpg  rgb_0061.jpg  rgb_0083.jpg\trgb_0105.jpg\n",
      "rgb_0018.jpg  rgb_0040.jpg  rgb_0062.jpg  rgb_0084.jpg\trgb_0106.jpg\n",
      "rgb_0019.jpg  rgb_0041.jpg  rgb_0063.jpg  rgb_0085.jpg\trgb_0107.jpg\n",
      "rgb_0020.jpg  rgb_0042.jpg  rgb_0064.jpg  rgb_0086.jpg\trgb_0108.jpg\n",
      "rgb_0021.jpg  rgb_0043.jpg  rgb_0065.jpg  rgb_0087.jpg\trgb_0109.jpg\n",
      "rgb_0022.jpg  rgb_0044.jpg  rgb_0066.jpg  rgb_0088.jpg\trgb_0110.jpg\n"
     ]
    }
   ],
   "source": [
    "!ls /content/output/"
   ]
  }
 ],
 "metadata": {
  "colab": {
   "collapsed_sections": [],
   "name": "project_evaluation.ipynb",
   "provenance": []
  },
  "kernelspec": {
   "display_name": "Python 3 (ipykernel)",
   "language": "python",
   "name": "python3"
  },
  "language_info": {
   "codemirror_mode": {
    "name": "ipython",
    "version": 3
   },
   "file_extension": ".py",
   "mimetype": "text/x-python",
   "name": "python",
   "nbconvert_exporter": "python",
   "pygments_lexer": "ipython3",
   "version": "3.8.12"
  }
 },
 "nbformat": 4,
 "nbformat_minor": 1
}
